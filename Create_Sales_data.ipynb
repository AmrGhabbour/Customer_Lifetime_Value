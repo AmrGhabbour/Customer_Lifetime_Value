{
 "cells": [
  {
   "cell_type": "code",
   "execution_count": 1,
   "id": "69194c67",
   "metadata": {},
   "outputs": [],
   "source": [
    "import numpy as np\n",
    "import pandas as pd\n",
    "from datetime import datetime, timedelta\n",
    "import random\n",
    "\n"
   ]
  },
  {
   "cell_type": "code",
   "execution_count": 2,
   "id": "0643bff9-8953-4dbb-b76b-27d76acc3cb0",
   "metadata": {},
   "outputs": [
    {
     "data": {
      "text/plain": [
       "datetime.timedelta(days=1398)"
      ]
     },
     "execution_count": 2,
     "metadata": {},
     "output_type": "execute_result"
    }
   ],
   "source": [
    " datetime(2024, 10,30) - datetime(2021, 1, 1)"
   ]
  },
  {
   "cell_type": "code",
   "execution_count": 3,
   "id": "daa49ba6-caad-4796-a566-15eb79cfdb80",
   "metadata": {},
   "outputs": [],
   "source": [
    "# Parameters for simulation\n",
    "num_customers = 5000  # Number of unique customers\n",
    "num_items = 50       # Number of unique items\n",
    "num_transactions = 50000  # Total number of transactions\n",
    "\n",
    "# Generate Customer Data\n",
    "customer_ids = [f\"CUST{i+1:05d}\" for i in range(num_customers)]\n",
    "sign_up_dates = [datetime(2021, 1, 1) + timedelta(days=random.randint(0, 1300)) for _ in range(num_customers)]\n",
    "\n",
    "customers = pd.DataFrame({\n",
    "    'CustomerID': customer_ids,\n",
    "    'SignUpDate': sign_up_dates\n",
    "})"
   ]
  },
  {
   "cell_type": "code",
   "execution_count": 4,
   "id": "44709e2c-85ad-4fbf-9582-b369980e6489",
   "metadata": {},
   "outputs": [],
   "source": [
    "# Generate Item Data\n",
    "items_ids = [f\"ID{i+1:03d}\" for i in range(num_items)]\n",
    "item_prices = np.round(np.random.uniform(50, 500, size=num_items))\n",
    "\n",
    "items = pd.DataFrame({\n",
    "    'item_id' : items_ids,\n",
    "    'Item_Price' : item_prices\n",
    "})"
   ]
  },
  {
   "cell_type": "code",
   "execution_count": 5,
   "id": "39038168-63fc-4c0d-83c1-b14fb1ee1497",
   "metadata": {},
   "outputs": [],
   "source": [
    "# Generate Transaction Data\n",
    "transaction_date = [datetime(2021, 1, 1) + timedelta(days=random.uniform(0, 1390)) for _ in range(num_transactions)]\n",
    "transaction_customer_ids = np.random.choice(customer_ids, num_transactions)\n",
    "transaction_item_ids = np.random.choice(items_ids, num_transactions)\n",
    "transaction_quantities = np.random.uniform(1, 50, num_transactions)\n",
    "\n",
    "\n",
    "\n",
    "transactions = pd.DataFrame({\n",
    "    'invoice_id' : [f\"invoice{i + 1:06d}\" for i in range(num_transactions)],\n",
    "    'date' : transaction_date,\n",
    "    'Customer_id' : transaction_customer_ids,\n",
    "    'item_id' : transaction_item_ids,\n",
    "    'quantity' : transaction_quantities\n",
    "\n",
    "})"
   ]
  },
  {
   "cell_type": "code",
   "execution_count": 6,
   "id": "86f83e06-33df-4847-8b2d-d312f6e09fa5",
   "metadata": {},
   "outputs": [],
   "source": [
    "transactions = transactions.merge(items, left_on='item_id', right_on='item_id', how='left')\n",
    "transactions['Value'] = transactions['quantity'] * transactions['Item_Price']"
   ]
  },
  {
   "cell_type": "code",
   "execution_count": 7,
   "id": "8152d2ae-6974-45c1-9d5b-f24193cc694e",
   "metadata": {},
   "outputs": [],
   "source": [
    "transactions.to_csv('sales_transactions.csv')"
   ]
  }
 ],
 "metadata": {
  "kernelspec": {
   "display_name": "Python 3 (ipykernel)",
   "language": "python",
   "name": "python3"
  },
  "language_info": {
   "codemirror_mode": {
    "name": "ipython",
    "version": 3
   },
   "file_extension": ".py",
   "mimetype": "text/x-python",
   "name": "python",
   "nbconvert_exporter": "python",
   "pygments_lexer": "ipython3",
   "version": "3.12.7"
  }
 },
 "nbformat": 4,
 "nbformat_minor": 5
}
